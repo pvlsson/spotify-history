{
  "nbformat": 4,
  "nbformat_minor": 0,
  "metadata": {
    "colab": {
      "provenance": [],
      "authorship_tag": "ABX9TyMFeokuMU3zppCqXU21SaxV"
    },
    "kernelspec": {
      "name": "python3",
      "display_name": "Python 3"
    },
    "language_info": {
      "name": "python"
    }
  },
  "cells": [
    {
      "cell_type": "markdown",
      "source": [
        "## Spotify Listening Data Analysis\n",
        "\n",
        "Author: Pavel Kukushkin\n",
        "\n",
        "Dataset: export of listening data from 3 Spotify accounts, combined in a .csv file through various data transformations"
      ],
      "metadata": {
        "id": "QWtQaeZsifSM"
      }
    },
    {
      "cell_type": "code",
      "execution_count": 1,
      "metadata": {
        "id": "_bgPekgLiWbo"
      },
      "outputs": [],
      "source": [
        "import pandas as pd"
      ]
    },
    {
      "cell_type": "code",
      "source": [
        "spotify = pd.read_csv('https://raw.githubusercontent.com/pvlsson/spotify-history/master/data/pvl_spotify_history.csv', parse_dates=['listen_date'])"
      ],
      "metadata": {
        "id": "CDGK6_1Oi8Ff"
      },
      "execution_count": 2,
      "outputs": []
    },
    {
      "cell_type": "code",
      "source": [
        "spotify.head()"
      ],
      "metadata": {
        "colab": {
          "base_uri": "https://localhost:8080/",
          "height": 461
        },
        "id": "UvQbmQRcj_v2",
        "outputId": "3178095c-e922-4f1e-e010-c70c0512ef18"
      },
      "execution_count": 3,
      "outputs": [
        {
          "output_type": "execute_result",
          "data": {
            "text/plain": [
              "   id listen_date                     username_hash platform_group  \\\n",
              "0   1  2019-03-30  b679e03a011213b4dc3fc8db84640a61        Windows   \n",
              "1   2  2019-03-30  b679e03a011213b4dc3fc8db84640a61        Windows   \n",
              "2   3  2019-03-30  b679e03a011213b4dc3fc8db84640a61        Windows   \n",
              "3   4  2019-03-30  b679e03a011213b4dc3fc8db84640a61        Windows   \n",
              "4   5  2019-03-31  b679e03a011213b4dc3fc8db84640a61        Windows   \n",
              "\n",
              "  conn_country   master_metadata_track_name  \\\n",
              "0           DE                        Union   \n",
              "1           DE               Ball Lightning   \n",
              "2           DE      The Party We Could Have   \n",
              "3           DE          No Real Perspective   \n",
              "4           DE  Chickenwings - Original mix   \n",
              "\n",
              "    master_metadata_album_artist_name master_metadata_album_album_name  \\\n",
              "0                                 MRD                      Sublimation   \n",
              "1  The Planetary Defence Side Project                   Ball Lightning   \n",
              "2                        Nathan Micay          The Party We Could Have   \n",
              "3                                 FNP              No Real Perspective   \n",
              "4                           Maureille             Chicken Tribulations   \n",
              "\n",
              "                      spotify_track_uri reason_start reason_end  shuffle  \\\n",
              "0  spotify:track:0FTAtFfdWexQwDDUIV9oRM     clickrow  trackdone        0   \n",
              "1  spotify:track:0ENjvpFC7Qsn76wLQ3IKTf    trackdone  trackdone        0   \n",
              "2  spotify:track:4Ub6kLgT87kBzpSj0Jgd8C    trackdone  trackdone        0   \n",
              "3  spotify:track:0UR4FNAXarQDN3AiAnA7lY    trackdone  trackdone        0   \n",
              "4  spotify:track:1XqBnLUpOSuZimbZHhoy02    trackdone     logout        0   \n",
              "\n",
              "   skipped  offline  incognito_mode played_time  \\\n",
              "0        0        0               0    00:10:14   \n",
              "1        0        0               0    00:08:27   \n",
              "2        0        0               0    00:07:08   \n",
              "3        0        0               0    00:06:38   \n",
              "4        0        0               0    00:05:02   \n",
              "\n",
              "                                          track_name  \n",
              "0                                        MRD - Union  \n",
              "1  The Planetary Defence Side Project - Ball Ligh...  \n",
              "2             Nathan Micay - The Party We Could Have  \n",
              "3                          FNP - No Real Perspective  \n",
              "4            Maureille - Chickenwings - Original mix  "
            ],
            "text/html": [
              "\n",
              "  <div id=\"df-0eac4916-bfb7-4637-8b38-bd68cbf658e0\">\n",
              "    <div class=\"colab-df-container\">\n",
              "      <div>\n",
              "<style scoped>\n",
              "    .dataframe tbody tr th:only-of-type {\n",
              "        vertical-align: middle;\n",
              "    }\n",
              "\n",
              "    .dataframe tbody tr th {\n",
              "        vertical-align: top;\n",
              "    }\n",
              "\n",
              "    .dataframe thead th {\n",
              "        text-align: right;\n",
              "    }\n",
              "</style>\n",
              "<table border=\"1\" class=\"dataframe\">\n",
              "  <thead>\n",
              "    <tr style=\"text-align: right;\">\n",
              "      <th></th>\n",
              "      <th>id</th>\n",
              "      <th>listen_date</th>\n",
              "      <th>username_hash</th>\n",
              "      <th>platform_group</th>\n",
              "      <th>conn_country</th>\n",
              "      <th>master_metadata_track_name</th>\n",
              "      <th>master_metadata_album_artist_name</th>\n",
              "      <th>master_metadata_album_album_name</th>\n",
              "      <th>spotify_track_uri</th>\n",
              "      <th>reason_start</th>\n",
              "      <th>reason_end</th>\n",
              "      <th>shuffle</th>\n",
              "      <th>skipped</th>\n",
              "      <th>offline</th>\n",
              "      <th>incognito_mode</th>\n",
              "      <th>played_time</th>\n",
              "      <th>track_name</th>\n",
              "    </tr>\n",
              "  </thead>\n",
              "  <tbody>\n",
              "    <tr>\n",
              "      <th>0</th>\n",
              "      <td>1</td>\n",
              "      <td>2019-03-30</td>\n",
              "      <td>b679e03a011213b4dc3fc8db84640a61</td>\n",
              "      <td>Windows</td>\n",
              "      <td>DE</td>\n",
              "      <td>Union</td>\n",
              "      <td>MRD</td>\n",
              "      <td>Sublimation</td>\n",
              "      <td>spotify:track:0FTAtFfdWexQwDDUIV9oRM</td>\n",
              "      <td>clickrow</td>\n",
              "      <td>trackdone</td>\n",
              "      <td>0</td>\n",
              "      <td>0</td>\n",
              "      <td>0</td>\n",
              "      <td>0</td>\n",
              "      <td>00:10:14</td>\n",
              "      <td>MRD - Union</td>\n",
              "    </tr>\n",
              "    <tr>\n",
              "      <th>1</th>\n",
              "      <td>2</td>\n",
              "      <td>2019-03-30</td>\n",
              "      <td>b679e03a011213b4dc3fc8db84640a61</td>\n",
              "      <td>Windows</td>\n",
              "      <td>DE</td>\n",
              "      <td>Ball Lightning</td>\n",
              "      <td>The Planetary Defence Side Project</td>\n",
              "      <td>Ball Lightning</td>\n",
              "      <td>spotify:track:0ENjvpFC7Qsn76wLQ3IKTf</td>\n",
              "      <td>trackdone</td>\n",
              "      <td>trackdone</td>\n",
              "      <td>0</td>\n",
              "      <td>0</td>\n",
              "      <td>0</td>\n",
              "      <td>0</td>\n",
              "      <td>00:08:27</td>\n",
              "      <td>The Planetary Defence Side Project - Ball Ligh...</td>\n",
              "    </tr>\n",
              "    <tr>\n",
              "      <th>2</th>\n",
              "      <td>3</td>\n",
              "      <td>2019-03-30</td>\n",
              "      <td>b679e03a011213b4dc3fc8db84640a61</td>\n",
              "      <td>Windows</td>\n",
              "      <td>DE</td>\n",
              "      <td>The Party We Could Have</td>\n",
              "      <td>Nathan Micay</td>\n",
              "      <td>The Party We Could Have</td>\n",
              "      <td>spotify:track:4Ub6kLgT87kBzpSj0Jgd8C</td>\n",
              "      <td>trackdone</td>\n",
              "      <td>trackdone</td>\n",
              "      <td>0</td>\n",
              "      <td>0</td>\n",
              "      <td>0</td>\n",
              "      <td>0</td>\n",
              "      <td>00:07:08</td>\n",
              "      <td>Nathan Micay - The Party We Could Have</td>\n",
              "    </tr>\n",
              "    <tr>\n",
              "      <th>3</th>\n",
              "      <td>4</td>\n",
              "      <td>2019-03-30</td>\n",
              "      <td>b679e03a011213b4dc3fc8db84640a61</td>\n",
              "      <td>Windows</td>\n",
              "      <td>DE</td>\n",
              "      <td>No Real Perspective</td>\n",
              "      <td>FNP</td>\n",
              "      <td>No Real Perspective</td>\n",
              "      <td>spotify:track:0UR4FNAXarQDN3AiAnA7lY</td>\n",
              "      <td>trackdone</td>\n",
              "      <td>trackdone</td>\n",
              "      <td>0</td>\n",
              "      <td>0</td>\n",
              "      <td>0</td>\n",
              "      <td>0</td>\n",
              "      <td>00:06:38</td>\n",
              "      <td>FNP - No Real Perspective</td>\n",
              "    </tr>\n",
              "    <tr>\n",
              "      <th>4</th>\n",
              "      <td>5</td>\n",
              "      <td>2019-03-31</td>\n",
              "      <td>b679e03a011213b4dc3fc8db84640a61</td>\n",
              "      <td>Windows</td>\n",
              "      <td>DE</td>\n",
              "      <td>Chickenwings - Original mix</td>\n",
              "      <td>Maureille</td>\n",
              "      <td>Chicken Tribulations</td>\n",
              "      <td>spotify:track:1XqBnLUpOSuZimbZHhoy02</td>\n",
              "      <td>trackdone</td>\n",
              "      <td>logout</td>\n",
              "      <td>0</td>\n",
              "      <td>0</td>\n",
              "      <td>0</td>\n",
              "      <td>0</td>\n",
              "      <td>00:05:02</td>\n",
              "      <td>Maureille - Chickenwings - Original mix</td>\n",
              "    </tr>\n",
              "  </tbody>\n",
              "</table>\n",
              "</div>\n",
              "      <button class=\"colab-df-convert\" onclick=\"convertToInteractive('df-0eac4916-bfb7-4637-8b38-bd68cbf658e0')\"\n",
              "              title=\"Convert this dataframe to an interactive table.\"\n",
              "              style=\"display:none;\">\n",
              "        \n",
              "  <svg xmlns=\"http://www.w3.org/2000/svg\" height=\"24px\"viewBox=\"0 0 24 24\"\n",
              "       width=\"24px\">\n",
              "    <path d=\"M0 0h24v24H0V0z\" fill=\"none\"/>\n",
              "    <path d=\"M18.56 5.44l.94 2.06.94-2.06 2.06-.94-2.06-.94-.94-2.06-.94 2.06-2.06.94zm-11 1L8.5 8.5l.94-2.06 2.06-.94-2.06-.94L8.5 2.5l-.94 2.06-2.06.94zm10 10l.94 2.06.94-2.06 2.06-.94-2.06-.94-.94-2.06-.94 2.06-2.06.94z\"/><path d=\"M17.41 7.96l-1.37-1.37c-.4-.4-.92-.59-1.43-.59-.52 0-1.04.2-1.43.59L10.3 9.45l-7.72 7.72c-.78.78-.78 2.05 0 2.83L4 21.41c.39.39.9.59 1.41.59.51 0 1.02-.2 1.41-.59l7.78-7.78 2.81-2.81c.8-.78.8-2.07 0-2.86zM5.41 20L4 18.59l7.72-7.72 1.47 1.35L5.41 20z\"/>\n",
              "  </svg>\n",
              "      </button>\n",
              "      \n",
              "  <style>\n",
              "    .colab-df-container {\n",
              "      display:flex;\n",
              "      flex-wrap:wrap;\n",
              "      gap: 12px;\n",
              "    }\n",
              "\n",
              "    .colab-df-convert {\n",
              "      background-color: #E8F0FE;\n",
              "      border: none;\n",
              "      border-radius: 50%;\n",
              "      cursor: pointer;\n",
              "      display: none;\n",
              "      fill: #1967D2;\n",
              "      height: 32px;\n",
              "      padding: 0 0 0 0;\n",
              "      width: 32px;\n",
              "    }\n",
              "\n",
              "    .colab-df-convert:hover {\n",
              "      background-color: #E2EBFA;\n",
              "      box-shadow: 0px 1px 2px rgba(60, 64, 67, 0.3), 0px 1px 3px 1px rgba(60, 64, 67, 0.15);\n",
              "      fill: #174EA6;\n",
              "    }\n",
              "\n",
              "    [theme=dark] .colab-df-convert {\n",
              "      background-color: #3B4455;\n",
              "      fill: #D2E3FC;\n",
              "    }\n",
              "\n",
              "    [theme=dark] .colab-df-convert:hover {\n",
              "      background-color: #434B5C;\n",
              "      box-shadow: 0px 1px 3px 1px rgba(0, 0, 0, 0.15);\n",
              "      filter: drop-shadow(0px 1px 2px rgba(0, 0, 0, 0.3));\n",
              "      fill: #FFFFFF;\n",
              "    }\n",
              "  </style>\n",
              "\n",
              "      <script>\n",
              "        const buttonEl =\n",
              "          document.querySelector('#df-0eac4916-bfb7-4637-8b38-bd68cbf658e0 button.colab-df-convert');\n",
              "        buttonEl.style.display =\n",
              "          google.colab.kernel.accessAllowed ? 'block' : 'none';\n",
              "\n",
              "        async function convertToInteractive(key) {\n",
              "          const element = document.querySelector('#df-0eac4916-bfb7-4637-8b38-bd68cbf658e0');\n",
              "          const dataTable =\n",
              "            await google.colab.kernel.invokeFunction('convertToInteractive',\n",
              "                                                     [key], {});\n",
              "          if (!dataTable) return;\n",
              "\n",
              "          const docLinkHtml = 'Like what you see? Visit the ' +\n",
              "            '<a target=\"_blank\" href=https://colab.research.google.com/notebooks/data_table.ipynb>data table notebook</a>'\n",
              "            + ' to learn more about interactive tables.';\n",
              "          element.innerHTML = '';\n",
              "          dataTable['output_type'] = 'display_data';\n",
              "          await google.colab.output.renderOutput(dataTable, element);\n",
              "          const docLink = document.createElement('div');\n",
              "          docLink.innerHTML = docLinkHtml;\n",
              "          element.appendChild(docLink);\n",
              "        }\n",
              "      </script>\n",
              "    </div>\n",
              "  </div>\n",
              "  "
            ]
          },
          "metadata": {},
          "execution_count": 3
        }
      ]
    },
    {
      "cell_type": "code",
      "source": [
        "len(spotify)"
      ],
      "metadata": {
        "colab": {
          "base_uri": "https://localhost:8080/"
        },
        "id": "zyGcYj9ZUvRX",
        "outputId": "84bc9725-2e90-42de-c909-096aeb74b70d"
      },
      "execution_count": 5,
      "outputs": [
        {
          "output_type": "execute_result",
          "data": {
            "text/plain": [
              "31414"
            ]
          },
          "metadata": {},
          "execution_count": 5
        }
      ]
    },
    {
      "cell_type": "code",
      "source": [
        "spotify.info()"
      ],
      "metadata": {
        "colab": {
          "base_uri": "https://localhost:8080/"
        },
        "id": "iofqihaDkoHS",
        "outputId": "bd983007-b365-4264-b398-9c17d800e927"
      },
      "execution_count": 4,
      "outputs": [
        {
          "output_type": "stream",
          "name": "stdout",
          "text": [
            "<class 'pandas.core.frame.DataFrame'>\n",
            "RangeIndex: 31414 entries, 0 to 31413\n",
            "Data columns (total 17 columns):\n",
            " #   Column                             Non-Null Count  Dtype         \n",
            "---  ------                             --------------  -----         \n",
            " 0   id                                 31414 non-null  int64         \n",
            " 1   listen_date                        31414 non-null  datetime64[ns]\n",
            " 2   username_hash                      31414 non-null  object        \n",
            " 3   platform_group                     31414 non-null  object        \n",
            " 4   conn_country                       31414 non-null  object        \n",
            " 5   master_metadata_track_name         27526 non-null  object        \n",
            " 6   master_metadata_album_artist_name  27526 non-null  object        \n",
            " 7   master_metadata_album_album_name   27526 non-null  object        \n",
            " 8   spotify_track_uri                  27526 non-null  object        \n",
            " 9   reason_start                       31414 non-null  object        \n",
            " 10  reason_end                         31414 non-null  object        \n",
            " 11  shuffle                            31414 non-null  int64         \n",
            " 12  skipped                            31414 non-null  int64         \n",
            " 13  offline                            31414 non-null  int64         \n",
            " 14  incognito_mode                     31414 non-null  int64         \n",
            " 15  played_time                        31414 non-null  object        \n",
            " 16  track_name                         27526 non-null  object        \n",
            "dtypes: datetime64[ns](1), int64(5), object(11)\n",
            "memory usage: 4.1+ MB\n"
          ]
        }
      ]
    },
    {
      "cell_type": "markdown",
      "source": [
        "Looks like all data points were collected while listening to music online with incognito mode switched off."
      ],
      "metadata": {
        "id": "Wur7PkG8k3a5"
      }
    },
    {
      "cell_type": "code",
      "source": [
        "spotify.describe()"
      ],
      "metadata": {
        "colab": {
          "base_uri": "https://localhost:8080/",
          "height": 300
        },
        "id": "ZXyHoi-ZkbKF",
        "outputId": "79d2a3fa-fe14-4be1-f1ba-8a24290f6511"
      },
      "execution_count": null,
      "outputs": [
        {
          "output_type": "execute_result",
          "data": {
            "text/plain": [
              "                 id  shuffle       skipped  offline  incognito_mode\n",
              "count  31414.000000  31414.0  31414.000000  31414.0         31414.0\n",
              "mean   15707.500000      0.0      0.059846      0.0             0.0\n",
              "std     9068.585015      0.0      0.237205      0.0             0.0\n",
              "min        1.000000      0.0      0.000000      0.0             0.0\n",
              "25%     7854.250000      0.0      0.000000      0.0             0.0\n",
              "50%    15707.500000      0.0      0.000000      0.0             0.0\n",
              "75%    23560.750000      0.0      0.000000      0.0             0.0\n",
              "max    31414.000000      0.0      1.000000      0.0             0.0"
            ],
            "text/html": [
              "\n",
              "  <div id=\"df-86531fea-2ac0-4d7e-9de9-dfb09d1dc3c1\">\n",
              "    <div class=\"colab-df-container\">\n",
              "      <div>\n",
              "<style scoped>\n",
              "    .dataframe tbody tr th:only-of-type {\n",
              "        vertical-align: middle;\n",
              "    }\n",
              "\n",
              "    .dataframe tbody tr th {\n",
              "        vertical-align: top;\n",
              "    }\n",
              "\n",
              "    .dataframe thead th {\n",
              "        text-align: right;\n",
              "    }\n",
              "</style>\n",
              "<table border=\"1\" class=\"dataframe\">\n",
              "  <thead>\n",
              "    <tr style=\"text-align: right;\">\n",
              "      <th></th>\n",
              "      <th>id</th>\n",
              "      <th>shuffle</th>\n",
              "      <th>skipped</th>\n",
              "      <th>offline</th>\n",
              "      <th>incognito_mode</th>\n",
              "    </tr>\n",
              "  </thead>\n",
              "  <tbody>\n",
              "    <tr>\n",
              "      <th>count</th>\n",
              "      <td>31414.000000</td>\n",
              "      <td>31414.0</td>\n",
              "      <td>31414.000000</td>\n",
              "      <td>31414.0</td>\n",
              "      <td>31414.0</td>\n",
              "    </tr>\n",
              "    <tr>\n",
              "      <th>mean</th>\n",
              "      <td>15707.500000</td>\n",
              "      <td>0.0</td>\n",
              "      <td>0.059846</td>\n",
              "      <td>0.0</td>\n",
              "      <td>0.0</td>\n",
              "    </tr>\n",
              "    <tr>\n",
              "      <th>std</th>\n",
              "      <td>9068.585015</td>\n",
              "      <td>0.0</td>\n",
              "      <td>0.237205</td>\n",
              "      <td>0.0</td>\n",
              "      <td>0.0</td>\n",
              "    </tr>\n",
              "    <tr>\n",
              "      <th>min</th>\n",
              "      <td>1.000000</td>\n",
              "      <td>0.0</td>\n",
              "      <td>0.000000</td>\n",
              "      <td>0.0</td>\n",
              "      <td>0.0</td>\n",
              "    </tr>\n",
              "    <tr>\n",
              "      <th>25%</th>\n",
              "      <td>7854.250000</td>\n",
              "      <td>0.0</td>\n",
              "      <td>0.000000</td>\n",
              "      <td>0.0</td>\n",
              "      <td>0.0</td>\n",
              "    </tr>\n",
              "    <tr>\n",
              "      <th>50%</th>\n",
              "      <td>15707.500000</td>\n",
              "      <td>0.0</td>\n",
              "      <td>0.000000</td>\n",
              "      <td>0.0</td>\n",
              "      <td>0.0</td>\n",
              "    </tr>\n",
              "    <tr>\n",
              "      <th>75%</th>\n",
              "      <td>23560.750000</td>\n",
              "      <td>0.0</td>\n",
              "      <td>0.000000</td>\n",
              "      <td>0.0</td>\n",
              "      <td>0.0</td>\n",
              "    </tr>\n",
              "    <tr>\n",
              "      <th>max</th>\n",
              "      <td>31414.000000</td>\n",
              "      <td>0.0</td>\n",
              "      <td>1.000000</td>\n",
              "      <td>0.0</td>\n",
              "      <td>0.0</td>\n",
              "    </tr>\n",
              "  </tbody>\n",
              "</table>\n",
              "</div>\n",
              "      <button class=\"colab-df-convert\" onclick=\"convertToInteractive('df-86531fea-2ac0-4d7e-9de9-dfb09d1dc3c1')\"\n",
              "              title=\"Convert this dataframe to an interactive table.\"\n",
              "              style=\"display:none;\">\n",
              "        \n",
              "  <svg xmlns=\"http://www.w3.org/2000/svg\" height=\"24px\"viewBox=\"0 0 24 24\"\n",
              "       width=\"24px\">\n",
              "    <path d=\"M0 0h24v24H0V0z\" fill=\"none\"/>\n",
              "    <path d=\"M18.56 5.44l.94 2.06.94-2.06 2.06-.94-2.06-.94-.94-2.06-.94 2.06-2.06.94zm-11 1L8.5 8.5l.94-2.06 2.06-.94-2.06-.94L8.5 2.5l-.94 2.06-2.06.94zm10 10l.94 2.06.94-2.06 2.06-.94-2.06-.94-.94-2.06-.94 2.06-2.06.94z\"/><path d=\"M17.41 7.96l-1.37-1.37c-.4-.4-.92-.59-1.43-.59-.52 0-1.04.2-1.43.59L10.3 9.45l-7.72 7.72c-.78.78-.78 2.05 0 2.83L4 21.41c.39.39.9.59 1.41.59.51 0 1.02-.2 1.41-.59l7.78-7.78 2.81-2.81c.8-.78.8-2.07 0-2.86zM5.41 20L4 18.59l7.72-7.72 1.47 1.35L5.41 20z\"/>\n",
              "  </svg>\n",
              "      </button>\n",
              "      \n",
              "  <style>\n",
              "    .colab-df-container {\n",
              "      display:flex;\n",
              "      flex-wrap:wrap;\n",
              "      gap: 12px;\n",
              "    }\n",
              "\n",
              "    .colab-df-convert {\n",
              "      background-color: #E8F0FE;\n",
              "      border: none;\n",
              "      border-radius: 50%;\n",
              "      cursor: pointer;\n",
              "      display: none;\n",
              "      fill: #1967D2;\n",
              "      height: 32px;\n",
              "      padding: 0 0 0 0;\n",
              "      width: 32px;\n",
              "    }\n",
              "\n",
              "    .colab-df-convert:hover {\n",
              "      background-color: #E2EBFA;\n",
              "      box-shadow: 0px 1px 2px rgba(60, 64, 67, 0.3), 0px 1px 3px 1px rgba(60, 64, 67, 0.15);\n",
              "      fill: #174EA6;\n",
              "    }\n",
              "\n",
              "    [theme=dark] .colab-df-convert {\n",
              "      background-color: #3B4455;\n",
              "      fill: #D2E3FC;\n",
              "    }\n",
              "\n",
              "    [theme=dark] .colab-df-convert:hover {\n",
              "      background-color: #434B5C;\n",
              "      box-shadow: 0px 1px 3px 1px rgba(0, 0, 0, 0.15);\n",
              "      filter: drop-shadow(0px 1px 2px rgba(0, 0, 0, 0.3));\n",
              "      fill: #FFFFFF;\n",
              "    }\n",
              "  </style>\n",
              "\n",
              "      <script>\n",
              "        const buttonEl =\n",
              "          document.querySelector('#df-86531fea-2ac0-4d7e-9de9-dfb09d1dc3c1 button.colab-df-convert');\n",
              "        buttonEl.style.display =\n",
              "          google.colab.kernel.accessAllowed ? 'block' : 'none';\n",
              "\n",
              "        async function convertToInteractive(key) {\n",
              "          const element = document.querySelector('#df-86531fea-2ac0-4d7e-9de9-dfb09d1dc3c1');\n",
              "          const dataTable =\n",
              "            await google.colab.kernel.invokeFunction('convertToInteractive',\n",
              "                                                     [key], {});\n",
              "          if (!dataTable) return;\n",
              "\n",
              "          const docLinkHtml = 'Like what you see? Visit the ' +\n",
              "            '<a target=\"_blank\" href=https://colab.research.google.com/notebooks/data_table.ipynb>data table notebook</a>'\n",
              "            + ' to learn more about interactive tables.';\n",
              "          element.innerHTML = '';\n",
              "          dataTable['output_type'] = 'display_data';\n",
              "          await google.colab.output.renderOutput(dataTable, element);\n",
              "          const docLink = document.createElement('div');\n",
              "          docLink.innerHTML = docLinkHtml;\n",
              "          element.appendChild(docLink);\n",
              "        }\n",
              "      </script>\n",
              "    </div>\n",
              "  </div>\n",
              "  "
            ]
          },
          "metadata": {},
          "execution_count": 10
        }
      ]
    },
    {
      "cell_type": "markdown",
      "source": [
        "Count listen times per track"
      ],
      "metadata": {
        "id": "9MBuiYDTYp-g"
      }
    },
    {
      "cell_type": "code",
      "source": [
        "spotify['track_name'].value_counts()"
      ],
      "metadata": {
        "colab": {
          "base_uri": "https://localhost:8080/"
        },
        "id": "TnZgvbbSWMj2",
        "outputId": "4409a316-29de-4e50-9e7d-fe86ebf32ac2"
      },
      "execution_count": 6,
      "outputs": [
        {
          "output_type": "execute_result",
          "data": {
            "text/plain": [
              "Glass Animals - Your Love (Déjà Vu)    74\n",
              "MORGENSHTERN - Cadillac                55\n",
              "MORGENSHTERN - Новый Мерин             53\n",
              "Moderat - DOOM HYPE                    53\n",
              "Luna - Золотые Лепестки                49\n",
              "                                       ..\n",
              "Bonobo - 6000 Ft.                       1\n",
              "Shinedown - Adrenaline                  1\n",
              "Skillet - Dead Man Walking              1\n",
              "Skillet - Good to Be Alive              1\n",
              "Yppah - R. Mullen                       1\n",
              "Name: track_name, Length: 7659, dtype: int64"
            ]
          },
          "metadata": {},
          "execution_count": 6
        }
      ]
    },
    {
      "cell_type": "markdown",
      "source": [
        "Percentage of total: not too telling - the most listened to artist is at 2.36%"
      ],
      "metadata": {
        "id": "v3egDzxhYeq_"
      }
    },
    {
      "cell_type": "code",
      "source": [
        "spotify['master_metadata_album_artist_name'].value_counts(normalize=True)*100"
      ],
      "metadata": {
        "colab": {
          "base_uri": "https://localhost:8080/"
        },
        "id": "v5czp68QWdrq",
        "outputId": "2d834a3d-4ced-488e-b914-ae563ca10358"
      },
      "execution_count": 9,
      "outputs": [
        {
          "output_type": "execute_result",
          "data": {
            "text/plain": [
              "Luna            2.365037\n",
              "Moderat         2.154327\n",
              "MORGENSHTERN    1.998111\n",
              "HLEB            1.892756\n",
              "Max Cooper      1.761971\n",
              "                  ...   \n",
              "PALASTIC        0.003633\n",
              "Mat Zo          0.003633\n",
              "Nuage           0.003633\n",
              "Tentendo        0.003633\n",
              "Yppah           0.003633\n",
              "Name: master_metadata_album_artist_name, Length: 2591, dtype: float64"
            ]
          },
          "metadata": {},
          "execution_count": 9
        }
      ]
    },
    {
      "cell_type": "markdown",
      "source": [
        "Now visualize the number of listens per month of year"
      ],
      "metadata": {
        "id": "vTUK6JXPcigP"
      }
    },
    {
      "cell_type": "code",
      "source": [
        "import sqlite3\n",
        "import matplotlib.pyplot as plt"
      ],
      "metadata": {
        "id": "9tEvvStNbC13"
      },
      "execution_count": 17,
      "outputs": []
    },
    {
      "cell_type": "code",
      "source": [
        "# Connect to a temporary SQLite database in memory\n",
        "conn = sqlite3.connect(':memory:')"
      ],
      "metadata": {
        "id": "dmXNssQZbJSw"
      },
      "execution_count": 11,
      "outputs": []
    },
    {
      "cell_type": "code",
      "source": [
        "spotify.to_sql('spotify_data', conn, index=False)"
      ],
      "metadata": {
        "id": "4YTja4SnbOjI",
        "outputId": "d4c00cd2-4dac-494d-c20d-bbb368f69ffd",
        "colab": {
          "base_uri": "https://localhost:8080/"
        }
      },
      "execution_count": 12,
      "outputs": [
        {
          "output_type": "execute_result",
          "data": {
            "text/plain": [
              "31414"
            ]
          },
          "metadata": {},
          "execution_count": 12
        }
      ]
    },
    {
      "cell_type": "code",
      "source": [
        "# Execute the SQL query and store the results in a dataframe\n",
        "query = \"\"\"\n",
        "select strftime('%m', listen_date) as ListenMonth, strftime('%Y', listen_date) as ListenYear, count(ID) as Listens\n",
        "from spotify_data\n",
        "group by ListenMonth, ListenYear\n",
        "\"\"\"\n",
        "df_sql = pd.read_sql_query(query, conn)"
      ],
      "metadata": {
        "id": "INILno5dbhoc"
      },
      "execution_count": 15,
      "outputs": []
    },
    {
      "cell_type": "code",
      "source": [
        "# Close the database connection\n",
        "conn.close()"
      ],
      "metadata": {
        "id": "gyB26f2_chHM"
      },
      "execution_count": 16,
      "outputs": []
    },
    {
      "cell_type": "code",
      "source": [
        "# Create a line chart\n",
        "for year in df_sql['ListenYear'].unique():\n",
        "    year_data = df_sql[df_sql['ListenYear'] == year]\n",
        "    plt.plot(year_data['ListenMonth'], year_data['Listens'], label=str(year))\n",
        "\n",
        "# Set the chart title and axis labels\n",
        "plt.title('Monhtly listens')\n",
        "plt.xlabel('Month')\n",
        "\n",
        "# Add a legend to the chart\n",
        "plt.legend()"
      ],
      "metadata": {
        "id": "QPQJtFr7dPHP",
        "outputId": "758d9562-7467-4fd0-b9d9-539c0a982cdb",
        "colab": {
          "base_uri": "https://localhost:8080/",
          "height": 489
        }
      },
      "execution_count": 21,
      "outputs": [
        {
          "output_type": "execute_result",
          "data": {
            "text/plain": [
              "<matplotlib.legend.Legend at 0x7f9270ac8df0>"
            ]
          },
          "metadata": {},
          "execution_count": 21
        },
        {
          "output_type": "display_data",
          "data": {
            "text/plain": [
              "<Figure size 640x480 with 1 Axes>"
            ],
            "image/png": "[encoded data removed]"
          },
          "metadata": {}
        }
      ]
    }
  ]
}